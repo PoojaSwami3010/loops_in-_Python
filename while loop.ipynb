{
 "cells": [
  {
   "cell_type": "code",
   "execution_count": 1,
   "metadata": {},
   "outputs": [
    {
     "name": "stdout",
     "output_type": "stream",
     "text": [
      "current value of c is : 0\n",
      "current value of c is : 1\n",
      "current value of c is : 2\n",
      "current value of c is : 3\n",
      "current value of c is : 4\n"
     ]
    }
   ],
   "source": [
    "x=0\n",
    "\n",
    "while x<5:\n",
    "    print(f\"current value of c is : {x}\")\n",
    "    x=x+1 # or x+=1"
   ]
  },
  {
   "cell_type": "code",
   "execution_count": 5,
   "metadata": {},
   "outputs": [
    {
     "name": "stdout",
     "output_type": "stream",
     "text": [
      "value of x is : 0\n",
      "value of x is : 1\n",
      "value of x is : 2\n",
      "value of x is : 3\n",
      "value of x is : 4\n",
      "x is not less than 5\n"
     ]
    }
   ],
   "source": [
    "x=0\n",
    "while x<5:\n",
    "    print(f\"value of x is : {x}\")\n",
    "    x+=1\n",
    "else:\n",
    "          print(\"x is not less than 5\")"
   ]
  },
  {
   "cell_type": "markdown",
   "metadata": {},
   "source": [
    "# Break ,continue and pass"
   ]
  },
  {
   "cell_type": "code",
   "execution_count": 6,
   "metadata": {},
   "outputs": [
    {
     "ename": "SyntaxError",
     "evalue": "unexpected EOF while parsing (<ipython-input-6-d6d6a94e9e37>, line 4)",
     "output_type": "error",
     "traceback": [
      "\u001b[1;36m  File \u001b[1;32m\"<ipython-input-6-d6d6a94e9e37>\"\u001b[1;36m, line \u001b[1;32m4\u001b[0m\n\u001b[1;33m    #comment\u001b[0m\n\u001b[1;37m            ^\u001b[0m\n\u001b[1;31mSyntaxError\u001b[0m\u001b[1;31m:\u001b[0m unexpected EOF while parsing\n"
     ]
    }
   ],
   "source": [
    "x=[1,2,3,4]\n",
    "\n",
    "for i in x:\n",
    "    #comment"
   ]
  },
  {
   "cell_type": "code",
   "execution_count": 9,
   "metadata": {},
   "outputs": [
    {
     "name": "stdout",
     "output_type": "stream",
     "text": [
      "end of script\n"
     ]
    }
   ],
   "source": [
    "x=[1,2,3]\n",
    "\n",
    "for i in x:\n",
    "    #comment\n",
    "    pass\n",
    "print(\"end of script\")"
   ]
  },
  {
   "cell_type": "code",
   "execution_count": 13,
   "metadata": {},
   "outputs": [
    {
     "name": "stdout",
     "output_type": "stream",
     "text": [
      "p\n",
      "o\n",
      "o\n",
      "j\n"
     ]
    }
   ],
   "source": [
    "mystring='pooja'\n",
    "\n",
    "for i in mystring:\n",
    "    if i=='a':\n",
    "        continue\n",
    "    print(i)\n",
    "    # dont print letter a"
   ]
  },
  {
   "cell_type": "code",
   "execution_count": 14,
   "metadata": {},
   "outputs": [
    {
     "name": "stdout",
     "output_type": "stream",
     "text": [
      "s\n"
     ]
    }
   ],
   "source": [
    "mystring='sachin'\n",
    "\n",
    "for i in mystring:\n",
    "    if i=='a':\n",
    "        break\n",
    "    print(i)"
   ]
  },
  {
   "cell_type": "code",
   "execution_count": 15,
   "metadata": {},
   "outputs": [
    {
     "name": "stdout",
     "output_type": "stream",
     "text": [
      "0\n",
      "1\n"
     ]
    }
   ],
   "source": [
    "x=0\n",
    "\n",
    "while x<5:\n",
    "    if x==2:\n",
    "        break\n",
    "    print(x)\n",
    "    x+=1\n",
    "    "
   ]
  },
  {
   "cell_type": "code",
   "execution_count": 3,
   "metadata": {},
   "outputs": [
    {
     "name": "stdout",
     "output_type": "stream",
     "text": [
      "enter a number: 12\n",
      "12 X 1 =12\n",
      "12 X 2 =24\n",
      "12 X 3 =36\n",
      "12 X 4 =48\n",
      "12 X 5 =60\n",
      "12 X 6 =72\n",
      "12 X 7 =84\n",
      "12 X 8 =96\n",
      "12 X 9 =108\n",
      "12 X 10 =120\n"
     ]
    }
   ],
   "source": [
    "num=0\n",
    "num=int(input(\"enter a number: \"))\n",
    "i=1\n",
    "\n",
    "while i<=10:\n",
    "    print(\"%d X %d =%d\"%(num,i,num*i))\n",
    "    i+=1"
   ]
  },
  {
   "cell_type": "code",
   "execution_count": 4,
   "metadata": {},
   "outputs": [
    {
     "name": "stdout",
     "output_type": "stream",
     "text": [
      "1\n",
      "2\n",
      "3\n",
      "4\n",
      "5\n",
      "The while loop exhausted\n"
     ]
    }
   ],
   "source": [
    "i=1;  \n",
    "while i<=5:  \n",
    "    print(i)  \n",
    "    i=i+1;  \n",
    "else:print(\"The while loop exhausted\");"
   ]
  },
  {
   "cell_type": "code",
   "execution_count": null,
   "metadata": {},
   "outputs": [],
   "source": []
  }
 ],
 "metadata": {
  "kernelspec": {
   "display_name": "Python 3",
   "language": "python",
   "name": "python3"
  },
  "language_info": {
   "codemirror_mode": {
    "name": "ipython",
    "version": 3
   },
   "file_extension": ".py",
   "mimetype": "text/x-python",
   "name": "python",
   "nbconvert_exporter": "python",
   "pygments_lexer": "ipython3",
   "version": "3.7.0"
  }
 },
 "nbformat": 4,
 "nbformat_minor": 2
}
